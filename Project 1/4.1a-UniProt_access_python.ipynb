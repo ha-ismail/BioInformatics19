{
 "cells": [
  {
   "cell_type": "markdown",
   "metadata": {},
   "source": [
    "# UniProt can also be accessed programmatically\n",
    "\n",
    "    -directly, see: https://www.uniprot.org/help/programmatic_access \n",
    "    -via the python Bioservices package: https://bioservices.readthedocs.io/en/master/\n",
    "    \n",
    "Here below some examples using bioservices"
   ]
  },
  {
   "cell_type": "code",
   "execution_count": 2,
   "metadata": {
    "collapsed": true
   },
   "outputs": [],
   "source": [
    "from bioservices.uniprot import UniProt\n",
    "u = UniProt(verbose=False)"
   ]
  },
  {
   "cell_type": "markdown",
   "metadata": {},
   "source": [
    "## Retrieve"
   ]
  },
  {
   "cell_type": "code",
   "execution_count": null,
   "metadata": {
    "collapsed": false
   },
   "outputs": [],
   "source": [
    "# retrieve information about an uniprot-id - the default format is xml\n",
    "res = u.retrieve(\"P43403\")\n",
    "print(res)"
   ]
  },
  {
   "cell_type": "code",
   "execution_count": null,
   "metadata": {
    "collapsed": false
   },
   "outputs": [],
   "source": [
    "# retrieve information about an uniprot-id in txt format\n",
    "res = u.retrieve(\"P43403\", frmt=\"txt\")\n",
    "print(res)"
   ]
  },
  {
   "cell_type": "code",
   "execution_count": 8,
   "metadata": {},
   "outputs": [
    {
     "name": "stdout",
     "output_type": "stream",
     "text": [
      "<class 'str'>\n"
     ]
    }
   ],
   "source": [
    "print(res.split())"
   ]
  },
  {
   "cell_type": "code",
   "execution_count": 14,
   "metadata": {
    "collapsed": false
   },
   "outputs": [
    {
     "name": "stdout",
     "output_type": "stream",
     "text": [
      "9606\n"
     ]
    }
   ],
   "source": [
    "# retrieve the sequence of an uniprot-id in fasta format\n",
    "#res = u.retrieve(\"P43403\", frmt=\"fasta\")\n",
    "print(res.split('NCBI_TaxID=')[1].split(';')[0])"
   ]
  },
  {
   "cell_type": "code",
   "execution_count": null,
   "metadata": {},
   "outputs": [],
   "source": []
  },
  {
   "cell_type": "code",
   "execution_count": null,
   "metadata": {
    "collapsed": false
   },
   "outputs": [],
   "source": [
    "# retrieve a list of fasta formats\n",
    "res = u.retrieve([\"P43403\"], frmt=\"fasta\")\n",
    "res"
   ]
  },
  {
   "cell_type": "markdown",
   "metadata": {},
   "source": [
    "# Search"
   ]
  },
  {
   "cell_type": "code",
   "execution_count": null,
   "metadata": {
    "collapsed": false
   },
   "outputs": [],
   "source": [
    "# search for the term zap70 on uniprot and return as a \"list\" of uniprot-ids\n",
    "res = u.search(\"zap70\", frmt=\"list\")\n",
    "type(res)"
   ]
  },
  {
   "cell_type": "code",
   "execution_count": null,
   "metadata": {
    "collapsed": true
   },
   "outputs": [],
   "source": [
    "array = res.split(\"\\n\") # convert the \"list\" into an python list"
   ]
  },
  {
   "cell_type": "code",
   "execution_count": null,
   "metadata": {
    "collapsed": false
   },
   "outputs": [],
   "source": [
    "len(array) # notice that the last position of the list is an empty string \n",
    "array"
   ]
  },
  {
   "cell_type": "code",
   "execution_count": null,
   "metadata": {
    "collapsed": true
   },
   "outputs": [],
   "source": []
  },
  {
   "cell_type": "code",
   "execution_count": null,
   "metadata": {
    "collapsed": false
   },
   "outputs": [],
   "source": [
    "# another example of search returning a \"list\" of ids\n",
    "res = u.search(\"zap70+AND+human\", frmt=\"list\")\n",
    "print(res)"
   ]
  },
  {
   "cell_type": "code",
   "execution_count": null,
   "metadata": {
    "collapsed": false
   },
   "outputs": [],
   "source": [
    "# search of ZAP70_HUMAN or CBL_HUMAN and return as a tabular format with the \n",
    "# columns \"entry name\", \"length\", \"id\" and \"genes\"\n",
    "res = u.search(\"ZAP70_HUMAN+or+CBL_HUMAN\", frmt=\"tab\", columns=\"entry name, length, id, genes\")\n",
    "print(res)"
   ]
  },
  {
   "cell_type": "code",
   "execution_count": null,
   "metadata": {
    "collapsed": false
   },
   "outputs": [],
   "source": [
    "# search of zap70 and organism 9606 output as a tabular format with the \n",
    "# columns \"entry name\", \"length\", \"id\" and \"genes\". Return only the first 25 results.\n",
    "res = u.search(\"zap70 AND organism:\\\"Homo sapiens (Human) [9606]\\\"\", frmt=\"tab\", limit=25, \n",
    "columns=\"entry name,length,id, genes, organism\")\n",
    "print(res)\n",
    "##  To do advanced searchs like that go to \"http://www.uniprot.org\" click on Advanced,\n",
    "##  select the options of search you want. It will return a search string copy and paste that string."
   ]
  },
  {
   "cell_type": "markdown",
   "metadata": {},
   "source": [
    "## ID mapping"
   ]
  },
  {
   "cell_type": "markdown",
   "metadata": {},
   "source": [
    "### ID mapping directly via UniProt: "
   ]
  },
  {
   "cell_type": "code",
   "execution_count": null,
   "metadata": {
    "collapsed": false
   },
   "outputs": [],
   "source": [
    "import urllib\n",
    "from urllib.request import urlopen, Request\n",
    "\n",
    "# check instructions on https://www.uniprot.org/help/api_idmapping\n",
    "\n",
    "url = 'https://www.uniprot.org/uploadlists/'\n",
    "\n",
    "params = {\n",
    "'from':'GENENAME',\n",
    "'to':'ACC',\n",
    "'format':'tab',\n",
    "'query':'C4A'\n",
    "}\n",
    "\n",
    "data = urllib.parse.urlencode(params).encode(\"utf-8\")\n",
    "request = Request(url, data)\n",
    "request.add_header('User-Agent', 'Python %s')\n",
    "response = urllib.request.urlopen(request)\n",
    "page = response.read(200000)\n",
    "print (page)"
   ]
  },
  {
   "cell_type": "code",
   "execution_count": 52,
   "metadata": {},
   "outputs": [
    {
     "name": "stdout",
     "output_type": "stream",
     "text": [
      "\\tunreviewed\\tComplement C4-A\\tC4A\\tHomo sapiens (Human)\\t1744\\nC4A\\tA0A0G2JT52\\tA0A0G2JT52_RAT\\tunreviewed\\tComplement C4A (Fragment)\\tC4a\\tRattus norvegicus (Rat)\\t188\\nC4A\\tA0A0G2JV52\\tA0A0G2JV52_RAT\\tunreviewed\\tComplement C4A (Fragment)\\tC4a\\tRattus norvegicus (Rat)\\t1374\\nC4A\\tA0A0N8ESX5\\tA0A0N8ESX5_HETGA\\tunreviewed\\tComplement C4-A isoform 1 preproprotein\\tC4A\\tHeterocephalus glaber (Naked mole rat)\\t1745\\nC4A\\tA0A140TA32\\tA0A140TA32\n"
     ]
    }
   ],
   "source": [
    "p1 = str(page).strip().split('_HUMAN')\n",
    "print(p1[1])\n",
    "#p2 = p1.split('C4A')\n",
    "#print(p2[::-1])\n",
    "#p3 = p2[::-1][1]\n",
    "#print(p3.replace('\\\\t',''))"
   ]
  },
  {
   "cell_type": "markdown",
   "metadata": {},
   "source": [
    "### ID mapping via bioservices:\n",
    "\n",
    "NOTE: to know the valid identifiers to search in mapping (ie ACC, KGG_ID, NF50, etc) see http://www.uniprot.org/help/api_idmapping"
   ]
  },
  {
   "cell_type": "code",
   "execution_count": null,
   "metadata": {
    "collapsed": false
   },
   "outputs": [],
   "source": [
    "from bioservices.uniprot import UniProt\n",
    "u = UniProt(verbose=False)\n",
    "# here we are going from accession (uniprot-id) to gene-name and the accession is \"P43403\"\n",
    "u.search('C4A')\n",
    "u.mapping(\"GENENAME\", \"ACC\", query='C4A')"
   ]
  },
  {
   "cell_type": "code",
   "execution_count": null,
   "metadata": {
    "collapsed": false
   },
   "outputs": [],
   "source": [
    "# what is the kegg-id of the protein whose uniprot-id is \"P43403\"\n",
    "u.mapping(fr=\"ACC\", to=\"KEGG_ID\", query='P43403')"
   ]
  },
  {
   "cell_type": "code",
   "execution_count": null,
   "metadata": {
    "collapsed": false
   },
   "outputs": [],
   "source": [
    "# what is the biogrid-id from the protein whose uniprot-id is \"P43403\"\n",
    "u.mapping(fr=\"ACC\", to=\"BIOGRID_ID\", query='P43403')"
   ]
  }
 ],
 "metadata": {
  "kernelspec": {
   "display_name": "Python 3",
   "language": "python",
   "name": "python3"
  },
  "language_info": {
   "codemirror_mode": {
    "name": "ipython",
    "version": 3
   },
   "file_extension": ".py",
   "mimetype": "text/x-python",
   "name": "python",
   "nbconvert_exporter": "python",
   "pygments_lexer": "ipython3",
   "version": "3.7.0"
  }
 },
 "nbformat": 4,
 "nbformat_minor": 2
}
