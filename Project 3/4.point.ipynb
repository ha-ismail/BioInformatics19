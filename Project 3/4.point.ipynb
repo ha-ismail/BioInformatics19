{
 "cells": [
  {
   "cell_type": "code",
   "execution_count": 1,
   "metadata": {},
   "outputs": [],
   "source": [
    "import diamond\n",
    "import networkx as nx\n",
    "import DIAMOnD\n",
    "import pickle\n",
    "import csv"
   ]
  },
  {
   "cell_type": "code",
   "execution_count": null,
   "metadata": {},
   "outputs": [],
   "source": [
    "DIAMOnD.pvalue()"
   ]
  },
  {
   "cell_type": "code",
   "execution_count": 16,
   "metadata": {},
   "outputs": [],
   "source": [
    "gList = []\n",
    "#function to read the genes from the txt file and store them in a gList\n",
    "with open('seed_genes.txt') as file:\n",
    "        line = csv.reader(file, delimiter='\\n')\n",
    "        #print(*line)\n",
    "        genes = list(line)\n",
    "        for g in genes:\n",
    "            if str(*g) != '' and not g[0][0].isdigit() :  gList.append(g[0])\n"
   ]
  },
  {
   "cell_type": "code",
   "execution_count": 24,
   "metadata": {},
   "outputs": [],
   "source": [
    "aux = []\n",
    "with open('4.3_intersections.csv') as csv_file:\n",
    "    with open(\"PPI.txt\", \"w\") as my_output_file:\n",
    "        csv_reader = csv.reader(csv_file)\n",
    "        next(csv_reader)\n",
    "        for row in csv_reader:\n",
    "            el1, el2 = row[3],row[4]\n",
    "            if el1 in gList and el2 in gList:\n",
    "                continue\n",
    "            elif el1 in gList:\n",
    "                if el2 in aux:\n",
    "                    continue\n",
    "                else:\n",
    "                    aux.append(str(el2))\n",
    "                    my_output_file.write(str(el2))\n",
    "                    my_output_file.write('\\n')\n",
    "            elif el2 in gList:\n",
    "                if el1 in aux:\n",
    "                    continue\n",
    "                else:\n",
    "                    aux.append(str(el1))\n",
    "                    my_output_file.write(str(el1))\n",
    "                    my_output_file.write('\\n')\n",
    "                    \n",
    "            else:\n",
    "                continue\n",
    "my_output_file.close()\n",
    "csv_file.close()"
   ]
  },
  {
   "cell_type": "code",
   "execution_count": 25,
   "metadata": {},
   "outputs": [
    {
     "data": {
      "text/plain": [
       "130"
      ]
     },
     "execution_count": 25,
     "metadata": {},
     "output_type": "execute_result"
    }
   ],
   "source": [
    "len(aux)"
   ]
  },
  {
   "cell_type": "code",
   "execution_count": 28,
   "metadata": {},
   "outputs": [
    {
     "data": {
      "text/plain": [
       "<module 'DIAMOnD' from 'C:\\\\Users\\\\Alessandra\\\\Documents\\\\DataScience\\\\2year\\\\BI\\\\Project1_2\\\\DIAMOnD.py'>"
      ]
     },
     "execution_count": 28,
     "metadata": {},
     "output_type": "execute_result"
    }
   ],
   "source": [
    "DIAMOnD"
   ]
  },
  {
   "cell_type": "code",
   "execution_count": null,
   "metadata": {},
   "outputs": [],
   "source": []
  },
  {
   "cell_type": "code",
   "execution_count": null,
   "metadata": {},
   "outputs": [],
   "source": []
  },
  {
   "cell_type": "code",
   "execution_count": null,
   "metadata": {},
   "outputs": [],
   "source": []
  },
  {
   "cell_type": "code",
   "execution_count": null,
   "metadata": {},
   "outputs": [],
   "source": []
  }
 ],
 "metadata": {
  "kernelspec": {
   "display_name": "Python 3",
   "language": "python",
   "name": "python3"
  },
  "language_info": {
   "codemirror_mode": {
    "name": "ipython",
    "version": 3
   },
   "file_extension": ".py",
   "mimetype": "text/x-python",
   "name": "python",
   "nbconvert_exporter": "python",
   "pygments_lexer": "ipython3",
   "version": "3.7.0"
  }
 },
 "nbformat": 4,
 "nbformat_minor": 2
}
